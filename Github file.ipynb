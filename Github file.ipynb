{
 "cells": [
  {
   "cell_type": "code",
   "execution_count": 2,
   "id": "becdf6b9",
   "metadata": {},
   "outputs": [
    {
     "name": "stdout",
     "output_type": "stream",
     "text": [
      "5,04,67 \n",
      "20,49 \n"
     ]
    }
   ],
   "source": [
    "import decimal\n",
    "def currencyInIndiaFormat(n):\n",
    "    d = decimal.Decimal(str(n))\n",
    "    if d.as_tuple().exponent < -2:\n",
    "        s = str(n) \n",
    "    else:\n",
    "        s ='{0:}'.format(n)\n",
    "    l = len(s)\n",
    "    i = l-1;\n",
    "    res = \" \"\n",
    "    flag = 0\n",
    "    k = 0\n",
    "    while i>=0:\n",
    "        if flag==1:\n",
    "            res = res + s[i]\n",
    "        if k==3 and i-1>=0:\n",
    "            res=res+','\n",
    "            flag = 3\n",
    "            k = 0\n",
    "        else:\n",
    "            k = k + 1\n",
    "            res = res + s[i]\n",
    "            if k==2 and i-1>=0:\n",
    "                res=res+','\n",
    "                flag=3\n",
    "                k = 0\n",
    "        i=i-1\n",
    "    return res[::-1]\n",
    "    \n",
    "\n",
    "def main():\n",
    "\n",
    "    n = 50467\n",
    "    print(currencyInIndiaFormat(n))\n",
    "    n = 2049\n",
    "    print(currencyInIndiaFormat(n))\n",
    "    \n",
    "    \n",
    "main()\n",
    "        \n",
    "\n"
   ]
  },
  {
   "cell_type": "code",
   "execution_count": null,
   "id": "7cce92a9",
   "metadata": {},
   "outputs": [
    {
     "name": "stdout",
     "output_type": "stream",
     "text": [
      "3\n",
      "4 10\n",
      "2 13 4 16\n",
      "2\n",
      "9 3 8 8 4\n",
      "1 2 3 4\n",
      "1\n"
     ]
    }
   ],
   "source": [
    "t = int(input())\n",
    "while(t>0):\n",
    "    l1=input().split()\n",
    "    l2=list(map(int, input().split())) \n",
    "    count = 0\n",
    "    for i in l2:\n",
    "        if i>int(l1[1]):\n",
    "            count += 1\n",
    "    print (count)\n",
    "    t-= 1"
   ]
  },
  {
   "cell_type": "code",
   "execution_count": null,
   "id": "ac45b39a",
   "metadata": {},
   "outputs": [],
   "source": []
  },
  {
   "cell_type": "code",
   "execution_count": null,
   "id": "0e269468",
   "metadata": {},
   "outputs": [],
   "source": []
  },
  {
   "cell_type": "code",
   "execution_count": null,
   "id": "2519ca8e",
   "metadata": {},
   "outputs": [],
   "source": []
  }
 ],
 "metadata": {
  "kernelspec": {
   "display_name": "Python 3",
   "language": "python",
   "name": "python3"
  },
  "language_info": {
   "codemirror_mode": {
    "name": "ipython",
    "version": 3
   },
   "file_extension": ".py",
   "mimetype": "text/x-python",
   "name": "python",
   "nbconvert_exporter": "python",
   "pygments_lexer": "ipython3",
   "version": "3.8.8"
  }
 },
 "nbformat": 4,
 "nbformat_minor": 5
}
